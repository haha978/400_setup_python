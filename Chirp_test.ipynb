{
 "cells": [
  {
   "cell_type": "code",
   "execution_count": 22,
   "id": "fe2e147e",
   "metadata": {},
   "outputs": [
    {
     "name": "stdout",
     "output_type": "stream",
     "text": [
      "D:\\400_AWT\\400_setup_python\\Tabor Library\n"
     ]
    }
   ],
   "source": [
    "import sys\n",
    "import os\n",
    "# please change the source path appropriately\n",
    "srcpath = os.path.realpath('D:/400_AWT/400_setup_python/Tabor Library/')\n",
    "print(srcpath)\n",
    "sys.path.append(srcpath)\n",
    "from tevisainst import TEVisaInst\n",
    "import matplotlib.pyplot as plt\n",
    "import numpy as np\n",
    "import time\n",
    "import scipy as sp\n",
    "from teproteus import TEProteusAdmin as TepAdmin\n",
    "from teproteus_functions_v3 import get_cpatured_header\n",
    "from teproteus_functions_v3 import connect, disconnect\n"
   ]
  },
  {
   "cell_type": "code",
   "execution_count": 23,
   "id": "6b5842d0",
   "metadata": {},
   "outputs": [],
   "source": [
    "def ampScale(bits, rawSignal):\n",
    "    rawSignal = np.array(rawSignal)\n",
    "    verticalScale = np.exp2(bits-1) - 1\n",
    "    vertScaled = (rawSignal / np.max(rawSignal)) * verticalScale\n",
    "    dacSignal = vertScaled + verticalScale\n",
    "    return dacSignal\n",
    "\n",
    "def makeChirp(sampleRateDAC, rampTime, fStart, fStop, bits):\n",
    "    dt = 1/sampleRateDAC\n",
    "    t = np.arange(0, rampTime + dt/2, dt)\n",
    "    # round t to valid number\n",
    "    t = t[:len(t)//64 * 64]\n",
    "    dacWave = sp.signal.chirp(t, fStart, np.max(t), fStop)\n",
    "    dacWave = ampScale(bits, dacWave)\n",
    "    return dacWave"
   ]
  },
  {
   "cell_type": "code",
   "execution_count": 24,
   "id": "7122abc7",
   "metadata": {},
   "outputs": [],
   "source": [
    "def download_waveform(inst, ch, segMem, dacWave):\n",
    "    print(f\"Downloading segment: {segMem}, channel: {ch}\")\n",
    "    res = inst.send_scpi_cmd(f':INST:CHAN {ch}')\n",
    "    # inst.send_scpi_cmd(f':TRAC:FORM U16')\n",
    "    inst.send_scpi_cmd(f':TRAC:DEF {segMem}, {len(dacWave)}')\n",
    "    inst.send_scpi_cmd(f':TRAC:SEL {segMem}')\n",
    "    \n",
    "    # Download the binary data to segment\n",
    "    prefix = '*OPC?; :TRAC:DATA'\n",
    "    dacWave = dacWave.astype(np.uint16)\n",
    "    inst.timeout = 30000\n",
    "    inst.write_binary_data(prefix, dacWave)\n",
    "    inst.timeout = 10000\n",
    "    resp = inst.send_scpi_query(':SYST:ERR?')\n",
    "    assert int(resp.split(',')[0]) == 0, f\"IQ segment not downloaded correctly. Error code: {resp}\""
   ]
  },
  {
   "cell_type": "code",
   "execution_count": 25,
   "id": "409b7063",
   "metadata": {},
   "outputs": [
    {
     "name": "stdout",
     "output_type": "stream",
     "text": [
      "Initializing AWG...\n",
      "Load TEProteus.dll from : C:\\Windows\\system32\\TEProteus.dll\n"
     ]
    },
    {
     "data": {
      "text/plain": [
       "0"
      ]
     },
     "execution_count": 25,
     "metadata": {},
     "output_type": "execute_result"
    }
   ],
   "source": [
    "print(\"Initializing AWG...\")\n",
    "sid = 8\n",
    "ch = 3\n",
    "admin = TepAdmin() #required to control PXI module\n",
    "inst = admin.open_instrument(slot_id=sid)\n",
    "inst.send_scpi_cmd(\"*CLS\")\n",
    "resp = inst.send_scpi_cmd(\"*RST\")\n",
    "inst.send_scpi_cmd(f':INST:CHAN {ch}')\n",
    "# pseudo command to use 16 bit mode\n",
    "inst.send_scpi_cmd(':FREQ:RAST 2.5E9')\n",
    "inst.send_scpi_cmd(':SOUR:VOLT MAX')\n",
    "inst.send_scpi_cmd(':INIT:CONT ON')\n",
    "inst.send_scpi_cmd(':TRAC:DEL:ALL')"
   ]
  },
  {
   "cell_type": "code",
   "execution_count": 26,
   "id": "25fb1e97",
   "metadata": {},
   "outputs": [
    {
     "name": "stdout",
     "output_type": "stream",
     "text": [
      "Downloading segment: 1, channel: 3\n",
      "Downloading segment: 2, channel: 3\n",
      "NONE\n",
      "NONE\n",
      "DUC\n"
     ]
    }
   ],
   "source": [
    "sampleRateDAC = 9e9\n",
    "awg_center_freq = 3e6\n",
    "awg_bw_freq = 100\n",
    "sweep_freq = 1000\n",
    "srs_freq = 1e6\n",
    "bits = 16\n",
    "pol_time = 20\n",
    "\n",
    "fCenter = awg_center_freq - srs_freq\n",
    "fStart, fStop = fCenter - 0.5*awg_bw_freq, fCenter + 0.5*awg_bw_freq\n",
    "rampTime = 1/sweep_freq\n",
    "\n",
    "seg_dict = {}\n",
    "chirp = makeChirp(sampleRateDAC, rampTime, fStart, fStop, bits)\n",
    "\n",
    "seg_dict[1] = chirp\n",
    "seg_dict[2] = np.flip(chirp)\n",
    "\n",
    "inst.send_scpi_cmd(f':FREQ:RAST {sampleRateDAC}')\n",
    "# DOWNLOAD TWO SEGMENTS\n",
    "for k, dacWave in seg_dict.items():\n",
    "    segMem = k\n",
    "    download_waveform(inst, ch, segMem, dacWave)\n",
    "\n",
    "\n",
    "#CONTINUOUS MODE ON\n",
    "inst.send_scpi_cmd(\":INIT:CONT OFF\")\n",
    "inst.send_scpi_cmd(\":INIT:CONT ON\")\n",
    "\n",
    "#TURN ANY OUTPUT OFF\n",
    "inst.send_scpi_cmd(\":OUTP OFF\")\n",
    "\n",
    "# TURN ON OUTPUT WITH NCO FREQUENCY SET AS CARRIER FREQUENCY\n",
    "# maybe need to create a image frequency\n",
    "\n",
    "inst.send_scpi_cmd(f\":SOUR:NCO:CFR1 {srs_freq}\")\n",
    "inst.send_scpi_cmd(':NCO:SIXD1 ON')\n",
    "inst.send_scpi_cmd(':SOUR:MODE DUC')\n",
    "inst.send_scpi_cmd(':SOUR:INT:NONE')\n",
    "ret = inst.send_scpi_query(':SOUR:IQM?')\n",
    "print(ret)\n",
    "ret = inst.send_scpi_query(':SOUR:INT?')\n",
    "print(ret)\n",
    "ret = inst.send_scpi_query(':SOUR:MODE?')\n",
    "print(ret)"
   ]
  },
  {
   "cell_type": "code",
   "execution_count": 27,
   "id": "f3954edf",
   "metadata": {},
   "outputs": [
    {
     "name": "stdout",
     "output_type": "stream",
     "text": [
      "generate task table\n",
      "20000\n",
      "3\n"
     ]
    },
    {
     "data": {
      "text/plain": [
       "0"
      ]
     },
     "execution_count": 27,
     "metadata": {},
     "output_type": "execute_result"
    }
   ],
   "source": [
    "# FIRST JUST REPEAT 1 segment and see what happens\n",
    "print(\"generate task table\")\n",
    "num_cycles = int(np.floor(pol_time * sweep_freq))\n",
    "print(num_cycles)\n",
    "print(ch)\n",
    "inst.send_scpi_cmd(f':INST:CHAN {ch}')\n",
    "inst.send_scpi_cmd('TASK:ZERO:ALL')\n",
    "inst.send_scpi_cmd(f':TASK:COMP:LENG 1')\n",
    "inst.send_scpi_cmd(f':TASK:COMP:SEL 1')\n",
    "inst.send_scpi_cmd(f':TASK:COMP:LOOP {num_cycles}')\n",
    "inst.send_scpi_cmd(':TASK:COMP:ENAB CPU')\n",
    "inst.send_scpi_cmd(f':TASK:COMP:SEGM 1')\n",
    "inst.send_scpi_cmd(f':TASK:COMP:NEXT1 1')\n",
    "inst.send_scpi_cmd(':TASK:COMP:TYPE SING')\n",
    "inst.send_scpi_cmd(':TASK:COMP:WRITE')\n",
    "inst.send_scpi_cmd(':SOUR:FUNC:MODE TASK')"
   ]
  },
  {
   "cell_type": "code",
   "execution_count": 28,
   "id": "3b9b1e26",
   "metadata": {},
   "outputs": [
    {
     "name": "stdout",
     "output_type": "stream",
     "text": [
      "208, syntax error in scpi\n"
     ]
    },
    {
     "data": {
      "text/plain": [
       "0"
      ]
     },
     "execution_count": 28,
     "metadata": {},
     "output_type": "execute_result"
    }
   ],
   "source": [
    "# TURN ON OUTPUT WITH NCO FREQUENCY SET AS CARRIER FREQUENCY\n",
    "# maybe need to create a image frequency\n",
    "inst.send_scpi_cmd(f\":SOUR:NCO:CFR1 {srs_freq}\")\n",
    "inst.send_scpi_cmd(':NCO:SIXD1 ON')\n",
    "inst.send_scpi_cmd(':SOUR:MODE DUC')\n",
    "\n",
    "\n",
    "# TURN ON OUTPUT\n",
    "inst.send_scpi_cmd(':SOUR:VOLT MAX')\n",
    "inst.send_scpi_cmd(':SOUR:FUNC:MODE TASK')\n",
    "inst.send_scpi_cmd(':OUTP ON')\n",
    "resp = inst.send_scpi_query(':SYST:ERR?')\n",
    "print(resp)\n",
    "inst.send_scpi_cmd('*TRG')"
   ]
  }
 ],
 "metadata": {
  "kernelspec": {
   "display_name": "venv",
   "language": "python",
   "name": "python3"
  },
  "language_info": {
   "codemirror_mode": {
    "name": "ipython",
    "version": 3
   },
   "file_extension": ".py",
   "mimetype": "text/x-python",
   "name": "python",
   "nbconvert_exporter": "python",
   "pygments_lexer": "ipython3",
   "version": "3.13.7"
  }
 },
 "nbformat": 4,
 "nbformat_minor": 5
}
